{
  "nbformat": 4,
  "nbformat_minor": 0,
  "metadata": {
    "colab": {
      "provenance": [],
      "gpuType": "T4"
    },
    "kernelspec": {
      "name": "python3",
      "display_name": "Python 3"
    },
    "language_info": {
      "name": "python"
    },
    "accelerator": "GPU"
  },
  "cells": [
    {
      "cell_type": "code",
      "source": [
        "!pip install tensorflow==2.8.0\n",
        "!pip install keras==2.8.0\n",
        "!pip install tensorflow-addons==0.17.0"
      ],
      "metadata": {
        "colab": {
          "base_uri": "https://localhost:8080/"
        },
        "id": "8kqaPwA5B3JQ",
        "outputId": "014fcde9-7395-4ef3-e29f-008b67b90d0b"
      },
      "execution_count": 1,
      "outputs": [
        {
          "output_type": "stream",
          "name": "stdout",
          "text": [
            "Collecting tensorflow==2.8.0\n",
            "  Downloading tensorflow-2.8.0-cp310-cp310-manylinux2010_x86_64.whl (497.6 MB)\n",
            "\u001b[2K     \u001b[90m━━━━━━━━━━━━━━━━━━━━━━━━━━━━━━━━━━━━━━━━\u001b[0m \u001b[32m497.6/497.6 MB\u001b[0m \u001b[31m3.2 MB/s\u001b[0m eta \u001b[36m0:00:00\u001b[0m\n",
            "\u001b[?25hRequirement already satisfied: absl-py>=0.4.0 in /usr/local/lib/python3.10/dist-packages (from tensorflow==2.8.0) (1.4.0)\n",
            "Requirement already satisfied: astunparse>=1.6.0 in /usr/local/lib/python3.10/dist-packages (from tensorflow==2.8.0) (1.6.3)\n",
            "Requirement already satisfied: flatbuffers>=1.12 in /usr/local/lib/python3.10/dist-packages (from tensorflow==2.8.0) (23.5.26)\n",
            "Requirement already satisfied: gast>=0.2.1 in /usr/local/lib/python3.10/dist-packages (from tensorflow==2.8.0) (0.5.4)\n",
            "Requirement already satisfied: google-pasta>=0.1.1 in /usr/local/lib/python3.10/dist-packages (from tensorflow==2.8.0) (0.2.0)\n",
            "Requirement already satisfied: h5py>=2.9.0 in /usr/local/lib/python3.10/dist-packages (from tensorflow==2.8.0) (3.9.0)\n",
            "Collecting keras-preprocessing>=1.1.1 (from tensorflow==2.8.0)\n",
            "  Downloading Keras_Preprocessing-1.1.2-py2.py3-none-any.whl (42 kB)\n",
            "\u001b[2K     \u001b[90m━━━━━━━━━━━━━━━━━━━━━━━━━━━━━━━━━━━━━━━━\u001b[0m \u001b[32m42.6/42.6 kB\u001b[0m \u001b[31m4.1 MB/s\u001b[0m eta \u001b[36m0:00:00\u001b[0m\n",
            "\u001b[?25hRequirement already satisfied: libclang>=9.0.1 in /usr/local/lib/python3.10/dist-packages (from tensorflow==2.8.0) (16.0.6)\n",
            "Requirement already satisfied: numpy>=1.20 in /usr/local/lib/python3.10/dist-packages (from tensorflow==2.8.0) (1.23.5)\n",
            "Requirement already satisfied: opt-einsum>=2.3.2 in /usr/local/lib/python3.10/dist-packages (from tensorflow==2.8.0) (3.3.0)\n",
            "Requirement already satisfied: protobuf>=3.9.2 in /usr/local/lib/python3.10/dist-packages (from tensorflow==2.8.0) (3.20.3)\n",
            "Requirement already satisfied: setuptools in /usr/local/lib/python3.10/dist-packages (from tensorflow==2.8.0) (67.7.2)\n",
            "Requirement already satisfied: six>=1.12.0 in /usr/local/lib/python3.10/dist-packages (from tensorflow==2.8.0) (1.16.0)\n",
            "Requirement already satisfied: termcolor>=1.1.0 in /usr/local/lib/python3.10/dist-packages (from tensorflow==2.8.0) (2.3.0)\n",
            "Requirement already satisfied: typing-extensions>=3.6.6 in /usr/local/lib/python3.10/dist-packages (from tensorflow==2.8.0) (4.5.0)\n",
            "Requirement already satisfied: wrapt>=1.11.0 in /usr/local/lib/python3.10/dist-packages (from tensorflow==2.8.0) (1.14.1)\n",
            "Collecting tensorboard<2.9,>=2.8 (from tensorflow==2.8.0)\n",
            "  Downloading tensorboard-2.8.0-py3-none-any.whl (5.8 MB)\n",
            "\u001b[2K     \u001b[90m━━━━━━━━━━━━━━━━━━━━━━━━━━━━━━━━━━━━━━━━\u001b[0m \u001b[32m5.8/5.8 MB\u001b[0m \u001b[31m41.2 MB/s\u001b[0m eta \u001b[36m0:00:00\u001b[0m\n",
            "\u001b[?25hCollecting tf-estimator-nightly==2.8.0.dev2021122109 (from tensorflow==2.8.0)\n",
            "  Downloading tf_estimator_nightly-2.8.0.dev2021122109-py2.py3-none-any.whl (462 kB)\n",
            "\u001b[2K     \u001b[90m━━━━━━━━━━━━━━━━━━━━━━━━━━━━━━━━━━━━━━━━\u001b[0m \u001b[32m462.5/462.5 kB\u001b[0m \u001b[31m43.0 MB/s\u001b[0m eta \u001b[36m0:00:00\u001b[0m\n",
            "\u001b[?25hCollecting keras<2.9,>=2.8.0rc0 (from tensorflow==2.8.0)\n",
            "  Downloading keras-2.8.0-py2.py3-none-any.whl (1.4 MB)\n",
            "\u001b[2K     \u001b[90m━━━━━━━━━━━━━━━━━━━━━━━━━━━━━━━━━━━━━━━━\u001b[0m \u001b[32m1.4/1.4 MB\u001b[0m \u001b[31m50.7 MB/s\u001b[0m eta \u001b[36m0:00:00\u001b[0m\n",
            "\u001b[?25hRequirement already satisfied: tensorflow-io-gcs-filesystem>=0.23.1 in /usr/local/lib/python3.10/dist-packages (from tensorflow==2.8.0) (0.34.0)\n",
            "Requirement already satisfied: grpcio<2.0,>=1.24.3 in /usr/local/lib/python3.10/dist-packages (from tensorflow==2.8.0) (1.59.2)\n",
            "Requirement already satisfied: wheel<1.0,>=0.23.0 in /usr/local/lib/python3.10/dist-packages (from astunparse>=1.6.0->tensorflow==2.8.0) (0.41.3)\n",
            "Requirement already satisfied: google-auth<3,>=1.6.3 in /usr/local/lib/python3.10/dist-packages (from tensorboard<2.9,>=2.8->tensorflow==2.8.0) (2.17.3)\n",
            "Collecting google-auth-oauthlib<0.5,>=0.4.1 (from tensorboard<2.9,>=2.8->tensorflow==2.8.0)\n",
            "  Downloading google_auth_oauthlib-0.4.6-py2.py3-none-any.whl (18 kB)\n",
            "Requirement already satisfied: markdown>=2.6.8 in /usr/local/lib/python3.10/dist-packages (from tensorboard<2.9,>=2.8->tensorflow==2.8.0) (3.5.1)\n",
            "Requirement already satisfied: requests<3,>=2.21.0 in /usr/local/lib/python3.10/dist-packages (from tensorboard<2.9,>=2.8->tensorflow==2.8.0) (2.31.0)\n",
            "Collecting tensorboard-data-server<0.7.0,>=0.6.0 (from tensorboard<2.9,>=2.8->tensorflow==2.8.0)\n",
            "  Downloading tensorboard_data_server-0.6.1-py3-none-manylinux2010_x86_64.whl (4.9 MB)\n",
            "\u001b[2K     \u001b[90m━━━━━━━━━━━━━━━━━━━━━━━━━━━━━━━━━━━━━━━━\u001b[0m \u001b[32m4.9/4.9 MB\u001b[0m \u001b[31m61.3 MB/s\u001b[0m eta \u001b[36m0:00:00\u001b[0m\n",
            "\u001b[?25hCollecting tensorboard-plugin-wit>=1.6.0 (from tensorboard<2.9,>=2.8->tensorflow==2.8.0)\n",
            "  Downloading tensorboard_plugin_wit-1.8.1-py3-none-any.whl (781 kB)\n",
            "\u001b[2K     \u001b[90m━━━━━━━━━━━━━━━━━━━━━━━━━━━━━━━━━━━━━━━━\u001b[0m \u001b[32m781.3/781.3 kB\u001b[0m \u001b[31m26.3 MB/s\u001b[0m eta \u001b[36m0:00:00\u001b[0m\n",
            "\u001b[?25hRequirement already satisfied: werkzeug>=0.11.15 in /usr/local/lib/python3.10/dist-packages (from tensorboard<2.9,>=2.8->tensorflow==2.8.0) (3.0.1)\n",
            "Requirement already satisfied: cachetools<6.0,>=2.0.0 in /usr/local/lib/python3.10/dist-packages (from google-auth<3,>=1.6.3->tensorboard<2.9,>=2.8->tensorflow==2.8.0) (5.3.2)\n",
            "Requirement already satisfied: pyasn1-modules>=0.2.1 in /usr/local/lib/python3.10/dist-packages (from google-auth<3,>=1.6.3->tensorboard<2.9,>=2.8->tensorflow==2.8.0) (0.3.0)\n",
            "Requirement already satisfied: rsa<5,>=3.1.4 in /usr/local/lib/python3.10/dist-packages (from google-auth<3,>=1.6.3->tensorboard<2.9,>=2.8->tensorflow==2.8.0) (4.9)\n",
            "Requirement already satisfied: requests-oauthlib>=0.7.0 in /usr/local/lib/python3.10/dist-packages (from google-auth-oauthlib<0.5,>=0.4.1->tensorboard<2.9,>=2.8->tensorflow==2.8.0) (1.3.1)\n",
            "Requirement already satisfied: charset-normalizer<4,>=2 in /usr/local/lib/python3.10/dist-packages (from requests<3,>=2.21.0->tensorboard<2.9,>=2.8->tensorflow==2.8.0) (3.3.2)\n",
            "Requirement already satisfied: idna<4,>=2.5 in /usr/local/lib/python3.10/dist-packages (from requests<3,>=2.21.0->tensorboard<2.9,>=2.8->tensorflow==2.8.0) (3.4)\n",
            "Requirement already satisfied: urllib3<3,>=1.21.1 in /usr/local/lib/python3.10/dist-packages (from requests<3,>=2.21.0->tensorboard<2.9,>=2.8->tensorflow==2.8.0) (2.0.7)\n",
            "Requirement already satisfied: certifi>=2017.4.17 in /usr/local/lib/python3.10/dist-packages (from requests<3,>=2.21.0->tensorboard<2.9,>=2.8->tensorflow==2.8.0) (2023.7.22)\n",
            "Requirement already satisfied: MarkupSafe>=2.1.1 in /usr/local/lib/python3.10/dist-packages (from werkzeug>=0.11.15->tensorboard<2.9,>=2.8->tensorflow==2.8.0) (2.1.3)\n",
            "Requirement already satisfied: pyasn1<0.6.0,>=0.4.6 in /usr/local/lib/python3.10/dist-packages (from pyasn1-modules>=0.2.1->google-auth<3,>=1.6.3->tensorboard<2.9,>=2.8->tensorflow==2.8.0) (0.5.0)\n",
            "Requirement already satisfied: oauthlib>=3.0.0 in /usr/local/lib/python3.10/dist-packages (from requests-oauthlib>=0.7.0->google-auth-oauthlib<0.5,>=0.4.1->tensorboard<2.9,>=2.8->tensorflow==2.8.0) (3.2.2)\n",
            "Installing collected packages: tf-estimator-nightly, tensorboard-plugin-wit, keras, tensorboard-data-server, keras-preprocessing, google-auth-oauthlib, tensorboard, tensorflow\n",
            "  Attempting uninstall: keras\n",
            "    Found existing installation: keras 2.14.0\n",
            "    Uninstalling keras-2.14.0:\n",
            "      Successfully uninstalled keras-2.14.0\n",
            "  Attempting uninstall: tensorboard-data-server\n",
            "    Found existing installation: tensorboard-data-server 0.7.2\n",
            "    Uninstalling tensorboard-data-server-0.7.2:\n",
            "      Successfully uninstalled tensorboard-data-server-0.7.2\n",
            "  Attempting uninstall: google-auth-oauthlib\n",
            "    Found existing installation: google-auth-oauthlib 1.0.0\n",
            "    Uninstalling google-auth-oauthlib-1.0.0:\n",
            "      Successfully uninstalled google-auth-oauthlib-1.0.0\n",
            "  Attempting uninstall: tensorboard\n",
            "    Found existing installation: tensorboard 2.14.1\n",
            "    Uninstalling tensorboard-2.14.1:\n",
            "      Successfully uninstalled tensorboard-2.14.1\n",
            "  Attempting uninstall: tensorflow\n",
            "    Found existing installation: tensorflow 2.14.0\n",
            "    Uninstalling tensorflow-2.14.0:\n",
            "      Successfully uninstalled tensorflow-2.14.0\n",
            "Successfully installed google-auth-oauthlib-0.4.6 keras-2.8.0 keras-preprocessing-1.1.2 tensorboard-2.8.0 tensorboard-data-server-0.6.1 tensorboard-plugin-wit-1.8.1 tensorflow-2.8.0 tf-estimator-nightly-2.8.0.dev2021122109\n",
            "Requirement already satisfied: keras==2.8.0 in /usr/local/lib/python3.10/dist-packages (2.8.0)\n",
            "Collecting tensorflow-addons==0.17.0\n",
            "  Downloading tensorflow_addons-0.17.0-cp310-cp310-manylinux_2_17_x86_64.manylinux2014_x86_64.whl (1.1 MB)\n",
            "\u001b[2K     \u001b[90m━━━━━━━━━━━━━━━━━━━━━━━━━━━━━━━━━━━━━━━━\u001b[0m \u001b[32m1.1/1.1 MB\u001b[0m \u001b[31m16.3 MB/s\u001b[0m eta \u001b[36m0:00:00\u001b[0m\n",
            "\u001b[?25hRequirement already satisfied: packaging in /usr/local/lib/python3.10/dist-packages (from tensorflow-addons==0.17.0) (23.2)\n",
            "Collecting typeguard>=2.7 (from tensorflow-addons==0.17.0)\n",
            "  Downloading typeguard-4.1.5-py3-none-any.whl (34 kB)\n",
            "Collecting typing-extensions>=4.7.0 (from typeguard>=2.7->tensorflow-addons==0.17.0)\n",
            "  Downloading typing_extensions-4.8.0-py3-none-any.whl (31 kB)\n",
            "Installing collected packages: typing-extensions, typeguard, tensorflow-addons\n",
            "  Attempting uninstall: typing-extensions\n",
            "    Found existing installation: typing_extensions 4.5.0\n",
            "    Uninstalling typing_extensions-4.5.0:\n",
            "      Successfully uninstalled typing_extensions-4.5.0\n",
            "\u001b[31mERROR: pip's dependency resolver does not currently take into account all the packages that are installed. This behaviour is the source of the following dependency conflicts.\n",
            "tensorflow-probability 0.22.0 requires typing-extensions<4.6.0, but you have typing-extensions 4.8.0 which is incompatible.\u001b[0m\u001b[31m\n",
            "\u001b[0mSuccessfully installed tensorflow-addons-0.17.0 typeguard-4.1.5 typing-extensions-4.8.0\n"
          ]
        }
      ]
    },
    {
      "cell_type": "code",
      "source": [
        "import tensorflow"
      ],
      "metadata": {
        "id": "FBBDG9ZoDZdX"
      },
      "execution_count": 2,
      "outputs": []
    },
    {
      "cell_type": "code",
      "source": [
        "tensorflow.__version__"
      ],
      "metadata": {
        "colab": {
          "base_uri": "https://localhost:8080/",
          "height": 36
        },
        "id": "zqNbS2j0DVZf",
        "outputId": "c948a10e-fab5-485f-db83-3d13f8f74420"
      },
      "execution_count": 3,
      "outputs": [
        {
          "output_type": "execute_result",
          "data": {
            "text/plain": [
              "'2.8.0'"
            ],
            "application/vnd.google.colaboratory.intrinsic+json": {
              "type": "string"
            }
          },
          "metadata": {},
          "execution_count": 3
        }
      ]
    },
    {
      "cell_type": "markdown",
      "source": [
        "## STEP 1 : Loading Dataset"
      ],
      "metadata": {
        "id": "mZfzAMARjYI4"
      }
    },
    {
      "cell_type": "code",
      "execution_count": 4,
      "metadata": {
        "id": "Aw2u8EesA9EA"
      },
      "outputs": [],
      "source": [
        "# import Libs\n",
        "import numpy as np\n",
        "import tensorflow as tf\n",
        "from tensorflow import keras\n",
        "from tensorflow.keras import layers\n",
        "import tensorflow_addons as tfa"
      ]
    },
    {
      "cell_type": "code",
      "source": [
        "# import dataset\n",
        "num_classes = 10\n",
        "input_shape = (32,32,3)\n",
        "\n",
        "(X_train, y_train), (X_test, y_test) = keras.datasets.cifar10.load_data()"
      ],
      "metadata": {
        "id": "gMeW1y_IBtuI",
        "colab": {
          "base_uri": "https://localhost:8080/"
        },
        "outputId": "8c9ac9ee-083e-4930-8752-fb72c53cccc0"
      },
      "execution_count": 5,
      "outputs": [
        {
          "output_type": "stream",
          "name": "stdout",
          "text": [
            "Downloading data from https://www.cs.toronto.edu/~kriz/cifar-10-python.tar.gz\n",
            "170500096/170498071 [==============================] - 3s 0us/step\n",
            "170508288/170498071 [==============================] - 3s 0us/step\n"
          ]
        }
      ]
    },
    {
      "cell_type": "code",
      "source": [
        "X_train.shape"
      ],
      "metadata": {
        "colab": {
          "base_uri": "https://localhost:8080/"
        },
        "id": "7WbOZaKOf3J1",
        "outputId": "b8ae77a6-2883-48e0-83de-7b35e010f0d6"
      },
      "execution_count": 6,
      "outputs": [
        {
          "output_type": "execute_result",
          "data": {
            "text/plain": [
              "(50000, 32, 32, 3)"
            ]
          },
          "metadata": {},
          "execution_count": 6
        }
      ]
    },
    {
      "cell_type": "code",
      "source": [
        "y_train.shape"
      ],
      "metadata": {
        "colab": {
          "base_uri": "https://localhost:8080/"
        },
        "id": "r7u7Rwdqf7Rb",
        "outputId": "53517d3f-e6d0-492c-eb32-dde37c6d2738"
      },
      "execution_count": 7,
      "outputs": [
        {
          "output_type": "execute_result",
          "data": {
            "text/plain": [
              "(50000, 1)"
            ]
          },
          "metadata": {},
          "execution_count": 7
        }
      ]
    },
    {
      "cell_type": "code",
      "source": [
        "X_test.shape"
      ],
      "metadata": {
        "colab": {
          "base_uri": "https://localhost:8080/"
        },
        "id": "0eQJA1mQf718",
        "outputId": "20e99c9d-c9ab-4325-a390-e6c6763f8fb0"
      },
      "execution_count": 8,
      "outputs": [
        {
          "output_type": "execute_result",
          "data": {
            "text/plain": [
              "(10000, 32, 32, 3)"
            ]
          },
          "metadata": {},
          "execution_count": 8
        }
      ]
    },
    {
      "cell_type": "code",
      "source": [
        "y_test.shape"
      ],
      "metadata": {
        "colab": {
          "base_uri": "https://localhost:8080/"
        },
        "id": "eClQLWy5f8bs",
        "outputId": "09c4ed2e-6ef8-4451-8c13-ae3ca21da435"
      },
      "execution_count": 9,
      "outputs": [
        {
          "output_type": "execute_result",
          "data": {
            "text/plain": [
              "(10000, 1)"
            ]
          },
          "metadata": {},
          "execution_count": 9
        }
      ]
    },
    {
      "cell_type": "markdown",
      "source": [
        "## STEP 2: Hyperparameter Definition"
      ],
      "metadata": {
        "id": "SiT2zjaFgJrV"
      }
    },
    {
      "cell_type": "code",
      "source": [
        "learning_rate = 0.001\n",
        "weight_decay = 0.0001\n",
        "batch_size = 256\n",
        "num_epochs = 30\n",
        "image_size = 72 # we'll resize the input image to this size\n",
        "patch_size = 6 # Size of the patches ro be extracted from the input image\n",
        "num_patches = (image_size // patch_size) ** 2\n",
        "projection_dim = 64\n",
        "num_heads = 4\n",
        "transformer_units = [projection_dim * 2, projection_dim] # size of transformer layer\n",
        "transformer_layers = 8\n",
        "mlp_head_units = [2048, 1024] # size of dense layer of final classifier"
      ],
      "metadata": {
        "id": "m0SK2oWNgRC7"
      },
      "execution_count": 10,
      "outputs": []
    },
    {
      "cell_type": "markdown",
      "source": [
        "## STEP 3: Build ViT Classifier Model"
      ],
      "metadata": {
        "id": "TaF9hLNuhVjD"
      }
    },
    {
      "cell_type": "markdown",
      "source": [
        "3.1 Data Augmetation"
      ],
      "metadata": {
        "id": "I-dI1KnAhcoK"
      }
    },
    {
      "cell_type": "code",
      "source": [
        "data_augmentation = keras.Sequential(\n",
        "    [\n",
        "        layers.Normalization(),\n",
        "        layers.Resizing(image_size, image_size),\n",
        "        layers.RandomFlip(\"horizontal\"),\n",
        "        layers.RandomZoom(height_factor=0.2, width_factor=0.2)\n",
        "    ],\n",
        "    name=\"data_augmentation\",)\n",
        "data_augmentation.layers[0].adapt(X_train)"
      ],
      "metadata": {
        "id": "iRO6oGYyhhWH"
      },
      "execution_count": 11,
      "outputs": []
    },
    {
      "cell_type": "markdown",
      "source": [
        "3.2 Define MLP Architecture"
      ],
      "metadata": {
        "id": "oIpjngFiiks5"
      }
    },
    {
      "cell_type": "code",
      "source": [
        "def mlp(x, hidden_units, dropout_rate):\n",
        "  for units in hidden_units:\n",
        "    x = layers.Dense(units, activation= tf.nn.gelu)(x) # gaussuan error linear unit\n",
        "    x = layers.Dropout(dropout_rate)(x)\n",
        "  return x"
      ],
      "metadata": {
        "id": "K4N-9DgMipIn"
      },
      "execution_count": 12,
      "outputs": []
    },
    {
      "cell_type": "markdown",
      "source": [
        "3.3 Patches"
      ],
      "metadata": {
        "id": "BRxURjZums6_"
      }
    },
    {
      "cell_type": "code",
      "source": [
        "class Patches(layers.Layer):\n",
        "  def __init__(self, patch_size):\n",
        "    super(Patches,self).__init__()\n",
        "    self.patch_size = patch_size\n",
        "\n",
        "  def call(self, images):\n",
        "    batch_size = tf.shape(images)[0]\n",
        "    patches = tf.image.extract_patches(images=images, sizes = [1, self.patch_size, self.patch_size, 1],\n",
        "                                       strides = [1, self.patch_size, self.patch_size, 1], rates = [1,1,1,1],\n",
        "                                       padding = 'VALID')\n",
        "    patch_dim = patches.shape[-1]\n",
        "    patches = tf.reshape(patches, [batch_size, -1, patch_dim])\n",
        "    return patches"
      ],
      "metadata": {
        "id": "6KiCKiiKmqKM"
      },
      "execution_count": 13,
      "outputs": []
    },
    {
      "cell_type": "code",
      "source": [
        "import matplotlib.pyplot as plt\n",
        "\n",
        "plt.figure(figsize=(4,4))\n",
        "image = X_train[np.random.choice(range(X_train.shape[0]))]\n",
        "plt.imshow(image)\n",
        "plt.axis('off')\n",
        "\n",
        "resized_image = tf.image.resize(tf.convert_to_tensor([image]), size=(image_size, image_size))\n",
        "patches = Patches(patch_size)(resized_image)\n",
        "\n",
        "print(f\"Image size: {image_size} x {image_size}\")\n",
        "print(f\"Patch size: {patch_size} X {patch_size}\")\n",
        "print(f\"Patches per image: (patches.shape[1])\")\n",
        "print(f\"Elements per patch: (patches.shape[-1]\")\n",
        "\n",
        "n = int(np.sqrt(patches.shape[1]))\n",
        "plt.figure(figsize=(4,4))\n",
        "for i, patch in enumerate(patches[0]):\n",
        "  ax = plt.subplot(n,n,i+1)\n",
        "  patch_imag = tf.reshape(patch, (patch_size, patch_size, 3))\n",
        "  plt.imshow(patch_imag.numpy().astype('uint8'))\n",
        "  plt.axis('off')"
      ],
      "metadata": {
        "colab": {
          "base_uri": "https://localhost:8080/",
          "height": 742
        },
        "id": "pwQhrhKOqikF",
        "outputId": "7a83a6f9-5c21-476a-dc92-bb0aa55ca3d8"
      },
      "execution_count": 14,
      "outputs": [
        {
          "output_type": "stream",
          "name": "stdout",
          "text": [
            "Image size: 72 x 72\n",
            "Patch size: 6 X 6\n",
            "Patches per image: (patches.shape[1])\n",
            "Elements per patch: (patches.shape[-1]\n"
          ]
        },
        {
          "output_type": "display_data",
          "data": {
            "text/plain": [
              "<Figure size 400x400 with 1 Axes>"
            ],
            "image/png": "[encoded data removed]"
          },
          "metadata": {}
        },
        {
          "output_type": "display_data",
          "data": {
            "text/plain": [
              "<Figure size 400x400 with 144 Axes>"
            ],
            "image/png": "[encoded data removed]"
          },
          "metadata": {}
        }
      ]
    },
    {
      "cell_type": "code",
      "source": [
        "class PatchEncoder(layers.Layer):\n",
        "  def __init__(self, num_patches, projection_dim):\n",
        "    super(PatchEncoder, self).__init__()\n",
        "    self.num_patches = num_patches\n",
        "    self.projection = layers.Dense(units=projection_dim)\n",
        "    self.position_embedding = layers.Embedding(input_dim=num_patches, output_dim=projection_dim)\n",
        "\n",
        "  def call(self, patch):\n",
        "    positions = tf.range(start=0, limit=self.num_patches, delta=1)\n",
        "    encoded = self.projection(patch) + self.position_embedding(positions)\n",
        "    return encoded\n"
      ],
      "metadata": {
        "id": "Y5DsMgi0tsf9"
      },
      "execution_count": 15,
      "outputs": []
    },
    {
      "cell_type": "code",
      "source": [
        "def create_vit_classifier():\n",
        "  inputs = layers.Input(shape = input_shape)\n",
        "  # Agument Data\n",
        "  augmentation = data_augmentation(inputs)\n",
        "  # Create Patches\n",
        "  patches = Patches(patch_size)(augmentation)\n",
        "  # Encode Patches\n",
        "  encoded_patches = PatchEncoder(num_patches, projection_dim)(patches)\n",
        "\n",
        "  # Create multiple layers of the transformer block\n",
        "  for _ in range(transformer_layers):\n",
        "    # Layer Normalization 1\n",
        "    x1 = layers.LayerNormalization(epsilon=1e-6)(encoded_patches)\n",
        "    # Create Multi-head Attension layer\n",
        "    attention_output = layers.MultiHeadAttention(num_heads=num_heads, key_dim = projection_dim, dropout=0.1)(x1,x1)\n",
        "    # Skip connection 1\n",
        "    x2 = layers.Add()([attention_output, encoded_patches])\n",
        "    # Layer Normalization 2\n",
        "    x3 = layers.LayerNormalization(epsilon = 1e-6)(x2)\n",
        "    # mlp\n",
        "    x4 = mlp(x3, hidden_units = transformer_units, dropout_rate=0.1)\n",
        "    # skip connection 2.\n",
        "    encoded_patches = layers.Add()([x4, x2])\n",
        "\n",
        "  # Create a [batch_size, projection_dim] tensor\n",
        "  representation = layers.LayerNormalization(epsilon=1e-6)(encoded_patches)\n",
        "  representation = layers.Flatten()(representation)\n",
        "  representation = layers.Dropout(0.5) (representation)\n",
        "\n",
        "  # Add MLP\n",
        "  features = mlp(representation, hidden_units=mlp_head_units, dropout_rate=0.5)\n",
        "  # Classify outputs\n",
        "  logits = layers.Dense(num_classes)(features)\n",
        "\n",
        "  # create keras model\n",
        "  model = keras.Model(inputs=inputs, outputs=logits)\n",
        "  return model"
      ],
      "metadata": {
        "id": "88R6D1gqkldM"
      },
      "execution_count": 16,
      "outputs": []
    },
    {
      "cell_type": "code",
      "source": [
        "def run(model):\n",
        "  optimizer = tfa.optimizers.AdamW(learning_rate=learning_rate, weight_decay= weight_decay)\n",
        "\n",
        "  model.compile(optimizer=optimizer,\n",
        "                loss=keras.losses.SparseCategoricalCrossentropy(from_logits=True),\n",
        "                metrics = [\n",
        "                    keras.metrics.SparseCategoricalAccuracy(name=\"accuracy\"),\n",
        "                    keras.metrics.SparseTopKCategoricalAccuracy(5, name=\"top_5_accuracy\"),\n",
        "                    ],\n",
        "                )\n",
        "\n",
        "  checkpoint_filepath = \"./tmp/checkpoint\"\n",
        "\n",
        "  checkpoint_callback = keras.callbacks.ModelCheckpoint(\n",
        "      checkpoint_filepath,\n",
        "      monitor=\"val_accuracy\",\n",
        "      save_best_only=True,\n",
        "      save_weights_only=True\n",
        "      )\n",
        "\n",
        "  history = model.fit(x=X_train,\n",
        "                      y=y_train,\n",
        "                      batch_size=batch_size,\n",
        "                      epochs=num_epochs,\n",
        "                      validation_split=0.1,\n",
        "                      callbacks=[checkpoint_callback],)\n",
        "\n",
        "  _, accuracy, top_5_accuracy = model.evaluate(X_test, y_test)\n",
        "  print(f\"Test Accuracy: {round(accuracy *100), 2}%\")\n",
        "  print(f\"Test top 5 Accuracy: {round(top_5_accuracy *100), 2}%\")"
      ],
      "metadata": {
        "id": "vFMzHphel13B"
      },
      "execution_count": 17,
      "outputs": []
    },
    {
      "cell_type": "code",
      "source": [
        "vit_classifier = create_vit_classifier()\n",
        "history = run(vit_classifier)"
      ],
      "metadata": {
        "id": "cIOeGLnMmeGh",
        "colab": {
          "base_uri": "https://localhost:8080/"
        },
        "outputId": "83ad982a-7869-4f80-c52d-6147f440ac93"
      },
      "execution_count": 18,
      "outputs": [
        {
          "output_type": "stream",
          "name": "stdout",
          "text": [
            "Epoch 1/30\n",
            "176/176 [==============================] - 81s 382ms/step - loss: 2.0913 - accuracy: 0.3102 - top_5_accuracy: 0.8025 - val_loss: 1.5456 - val_accuracy: 0.4510 - val_top_5_accuracy: 0.9086\n",
            "Epoch 2/30\n",
            "176/176 [==============================] - 67s 381ms/step - loss: 1.5579 - accuracy: 0.4357 - top_5_accuracy: 0.8988 - val_loss: 1.3343 - val_accuracy: 0.5202 - val_top_5_accuracy: 0.9366\n",
            "Epoch 3/30\n",
            "176/176 [==============================] - 74s 419ms/step - loss: 1.3949 - accuracy: 0.5012 - top_5_accuracy: 0.9256 - val_loss: 1.2523 - val_accuracy: 0.5736 - val_top_5_accuracy: 0.9444\n",
            "Epoch 4/30\n",
            "176/176 [==============================] - 75s 427ms/step - loss: 1.2904 - accuracy: 0.5398 - top_5_accuracy: 0.9380 - val_loss: 1.1015 - val_accuracy: 0.6144 - val_top_5_accuracy: 0.9602\n",
            "Epoch 5/30\n",
            "176/176 [==============================] - 70s 400ms/step - loss: 1.2123 - accuracy: 0.5702 - top_5_accuracy: 0.9466 - val_loss: 1.0429 - val_accuracy: 0.6264 - val_top_5_accuracy: 0.9674\n",
            "Epoch 6/30\n",
            "176/176 [==============================] - 75s 429ms/step - loss: 1.1492 - accuracy: 0.5948 - top_5_accuracy: 0.9545 - val_loss: 0.9610 - val_accuracy: 0.6668 - val_top_5_accuracy: 0.9732\n",
            "Epoch 7/30\n",
            "176/176 [==============================] - 75s 429ms/step - loss: 1.0884 - accuracy: 0.6186 - top_5_accuracy: 0.9600 - val_loss: 0.9248 - val_accuracy: 0.6740 - val_top_5_accuracy: 0.9744\n",
            "Epoch 8/30\n",
            "176/176 [==============================] - 71s 404ms/step - loss: 1.0459 - accuracy: 0.6330 - top_5_accuracy: 0.9633 - val_loss: 0.8800 - val_accuracy: 0.6926 - val_top_5_accuracy: 0.9788\n",
            "Epoch 9/30\n",
            "176/176 [==============================] - 70s 399ms/step - loss: 1.0003 - accuracy: 0.6463 - top_5_accuracy: 0.9650 - val_loss: 0.8707 - val_accuracy: 0.6980 - val_top_5_accuracy: 0.9804\n",
            "Epoch 10/30\n",
            "176/176 [==============================] - 76s 429ms/step - loss: 0.9511 - accuracy: 0.6680 - top_5_accuracy: 0.9696 - val_loss: 0.8409 - val_accuracy: 0.7108 - val_top_5_accuracy: 0.9794\n",
            "Epoch 11/30\n",
            "176/176 [==============================] - 71s 401ms/step - loss: 0.9152 - accuracy: 0.6804 - top_5_accuracy: 0.9721 - val_loss: 0.7781 - val_accuracy: 0.7274 - val_top_5_accuracy: 0.9852\n",
            "Epoch 12/30\n",
            "176/176 [==============================] - 75s 428ms/step - loss: 0.8785 - accuracy: 0.6949 - top_5_accuracy: 0.9747 - val_loss: 0.7365 - val_accuracy: 0.7450 - val_top_5_accuracy: 0.9880\n",
            "Epoch 13/30\n",
            "176/176 [==============================] - 69s 393ms/step - loss: 0.8450 - accuracy: 0.7036 - top_5_accuracy: 0.9761 - val_loss: 0.7438 - val_accuracy: 0.7362 - val_top_5_accuracy: 0.9852\n",
            "Epoch 14/30\n",
            "176/176 [==============================] - 75s 429ms/step - loss: 0.8162 - accuracy: 0.7175 - top_5_accuracy: 0.9788 - val_loss: 0.7026 - val_accuracy: 0.7540 - val_top_5_accuracy: 0.9868\n",
            "Epoch 15/30\n",
            "176/176 [==============================] - 71s 403ms/step - loss: 0.7848 - accuracy: 0.7252 - top_5_accuracy: 0.9793 - val_loss: 0.6973 - val_accuracy: 0.7550 - val_top_5_accuracy: 0.9866\n",
            "Epoch 16/30\n",
            "176/176 [==============================] - 71s 401ms/step - loss: 0.7543 - accuracy: 0.7334 - top_5_accuracy: 0.9816 - val_loss: 0.6703 - val_accuracy: 0.7696 - val_top_5_accuracy: 0.9864\n",
            "Epoch 17/30\n",
            "176/176 [==============================] - 70s 399ms/step - loss: 0.7353 - accuracy: 0.7428 - top_5_accuracy: 0.9829 - val_loss: 0.6540 - val_accuracy: 0.7710 - val_top_5_accuracy: 0.9862\n",
            "Epoch 18/30\n",
            "176/176 [==============================] - 70s 398ms/step - loss: 0.7110 - accuracy: 0.7520 - top_5_accuracy: 0.9850 - val_loss: 0.6475 - val_accuracy: 0.7810 - val_top_5_accuracy: 0.9870\n",
            "Epoch 19/30\n",
            "176/176 [==============================] - 69s 393ms/step - loss: 0.6947 - accuracy: 0.7580 - top_5_accuracy: 0.9850 - val_loss: 0.6564 - val_accuracy: 0.7736 - val_top_5_accuracy: 0.9888\n",
            "Epoch 20/30\n",
            "176/176 [==============================] - 69s 393ms/step - loss: 0.6749 - accuracy: 0.7630 - top_5_accuracy: 0.9858 - val_loss: 0.6326 - val_accuracy: 0.7770 - val_top_5_accuracy: 0.9880\n",
            "Epoch 21/30\n",
            "176/176 [==============================] - 70s 399ms/step - loss: 0.6533 - accuracy: 0.7695 - top_5_accuracy: 0.9867 - val_loss: 0.6244 - val_accuracy: 0.7812 - val_top_5_accuracy: 0.9896\n",
            "Epoch 22/30\n",
            "176/176 [==============================] - 69s 393ms/step - loss: 0.6383 - accuracy: 0.7770 - top_5_accuracy: 0.9884 - val_loss: 0.6295 - val_accuracy: 0.7792 - val_top_5_accuracy: 0.9906\n",
            "Epoch 23/30\n",
            "176/176 [==============================] - 76s 430ms/step - loss: 0.6232 - accuracy: 0.7804 - top_5_accuracy: 0.9890 - val_loss: 0.5973 - val_accuracy: 0.7906 - val_top_5_accuracy: 0.9878\n",
            "Epoch 24/30\n",
            "176/176 [==============================] - 76s 431ms/step - loss: 0.6048 - accuracy: 0.7869 - top_5_accuracy: 0.9888 - val_loss: 0.5920 - val_accuracy: 0.7922 - val_top_5_accuracy: 0.9894\n",
            "Epoch 25/30\n",
            "176/176 [==============================] - 70s 400ms/step - loss: 0.5862 - accuracy: 0.7956 - top_5_accuracy: 0.9898 - val_loss: 0.5768 - val_accuracy: 0.7988 - val_top_5_accuracy: 0.9902\n",
            "Epoch 26/30\n",
            "176/176 [==============================] - 76s 430ms/step - loss: 0.5674 - accuracy: 0.8004 - top_5_accuracy: 0.9910 - val_loss: 0.5721 - val_accuracy: 0.8008 - val_top_5_accuracy: 0.9888\n",
            "Epoch 27/30\n",
            "176/176 [==============================] - 69s 393ms/step - loss: 0.5612 - accuracy: 0.8032 - top_5_accuracy: 0.9910 - val_loss: 0.5889 - val_accuracy: 0.7892 - val_top_5_accuracy: 0.9896\n",
            "Epoch 28/30\n",
            "176/176 [==============================] - 76s 431ms/step - loss: 0.5406 - accuracy: 0.8087 - top_5_accuracy: 0.9921 - val_loss: 0.5850 - val_accuracy: 0.8028 - val_top_5_accuracy: 0.9894\n",
            "Epoch 29/30\n",
            "176/176 [==============================] - 70s 399ms/step - loss: 0.5286 - accuracy: 0.8158 - top_5_accuracy: 0.9917 - val_loss: 0.5669 - val_accuracy: 0.8046 - val_top_5_accuracy: 0.9912\n",
            "Epoch 30/30\n",
            "176/176 [==============================] - 69s 394ms/step - loss: 0.5062 - accuracy: 0.8229 - top_5_accuracy: 0.9926 - val_loss: 0.5878 - val_accuracy: 0.7970 - val_top_5_accuracy: 0.9906\n",
            "313/313 [==============================] - 9s 27ms/step - loss: 0.6047 - accuracy: 0.7951 - top_5_accuracy: 0.9876\n",
            "Test Accuracy: (80, 2)%\n",
            "Test top 5 Accuracy: (99, 2)%\n"
          ]
        }
      ]
    },
    {
      "cell_type": "code",
      "source": [],
      "metadata": {
        "id": "0YXsJRyxrJL-"
      },
      "execution_count": null,
      "outputs": []
    },
    {
      "cell_type": "code",
      "source": [
        "class_names = ['airplane','automobile','bird','cat','deer','dog','frog','horse','ship','truck']"
      ],
      "metadata": {
        "id": "Cse6pAprm32v"
      },
      "execution_count": 19,
      "outputs": []
    },
    {
      "cell_type": "code",
      "source": [
        "def img_predict(images, model):\n",
        "  if len(images.shape) == 3:\n",
        "    out = model.predict(images.reshape(-1, *images.shape))\n",
        "  else:\n",
        "    out = model.predict(images)\n",
        "  prediction= np.argmax(out, axis = 1)\n",
        "  img_prediction = [class_names[i] for i in prediction]\n",
        "\n",
        "  return img_prediction"
      ],
      "metadata": {
        "id": "xfiJNDeQm8EX"
      },
      "execution_count": 20,
      "outputs": []
    },
    {
      "cell_type": "code",
      "source": [
        "index = 19\n",
        "plt.imshow(X_test[index])\n",
        "prediction = img_predict(X_test[index], vit_classifier)\n",
        "print(prediction)"
      ],
      "metadata": {
        "id": "8ZseRSwmnjLI",
        "colab": {
          "base_uri": "https://localhost:8080/",
          "height": 447
        },
        "outputId": "b193675f-a892-4bd8-bc45-6fe210b4047c"
      },
      "execution_count": 22,
      "outputs": [
        {
          "output_type": "stream",
          "name": "stdout",
          "text": [
            "['frog']\n"
          ]
        },
        {
          "output_type": "display_data",
          "data": {
            "text/plain": [
              "<Figure size 640x480 with 1 Axes>"
            ],
            "image/png": "[encoded data removed]"
          },
          "metadata": {}
        }
      ]
    }
  ]
}